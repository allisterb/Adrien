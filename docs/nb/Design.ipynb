{
 "cells": [
  {
   "cell_type": "markdown",
   "metadata": {},
   "source": [
    "## Adrien Design Notebook\n",
    "\n",
    "This Jupyter notebook contains an interactive environment where Adrien design features can be explored. It will be synced with the most recent Adrien library build."
   ]
  },
  {
   "cell_type": "code",
   "execution_count": 3,
   "metadata": {},
   "outputs": [
    {
     "data": {
      "text/plain": [
       "\"Tree {Parent = 0;\n",
       "      Id = 1;\n",
       "      Op = Add;\n",
       "      Left = ValueNode {Id = 2;\n",
       "                        Shape = Symbol;\n",
       "                        Format = Nan;\n",
       "                        Parent = 1;\n",
       "                        Data = \"x1\";};\n",
       "      Right = Some (ValueNode {Id = 3;\n",
       "                               Shape = Scalar;\n",
       "                               Format = Float32;\n",
       "                               Parent = 1;\n",
       "                               Data = 2.0f;});}\""
      ]
     },
     "execution_count": 3,
     "metadata": {},
     "output_type": "execute_result"
    }
   ],
   "source": [
    "#load \"Adrien.Import.fsx\"\n",
    "\n",
    "open Adrien.Expression\n",
    "open Adrien.Tree\n",
    "\n",
    "let f (x:Expression) = sin x + constant 2.0f\n",
    "(tree f).ToString()"
   ]
  },
  {
   "cell_type": "code",
   "execution_count": null,
   "metadata": {},
   "outputs": [],
   "source": []
  }
 ],
 "metadata": {
  "kernelspec": {
   "display_name": "F#",
   "language": "fsharp",
   "name": "ifsharp"
  },
  "language": "fsharp",
  "language_info": {
   "codemirror_mode": "",
   "file_extension": ".fs",
   "mimetype": "text/x-fsharp",
   "name": "fsharp",
   "nbconvert_exporter": "",
   "pygments_lexer": "",
   "version": "4.3.1.0"
  }
 },
 "nbformat": 4,
 "nbformat_minor": 2
}
