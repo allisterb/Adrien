{
 "cells": [
  {
   "cell_type": "markdown",
   "metadata": {},
   "source": [
    "## Adrien Design Notebook\n",
    "This Jupyter notebook contains an interactive environment where Adrien design features can be explored and documented. It will be synced with the most recent Adrien library build."
   ]
  },
  {
   "cell_type": "code",
   "execution_count": 3,
   "metadata": {},
   "outputs": [],
   "source": [
    "#load \"Adrien.Import.fsx\" //Add packages from Adrien MyGet dev feed"
   ]
  },
  {
   "cell_type": "markdown",
   "metadata": {},
   "source": [
    "### Overview\n",
    "\n",
    "Some of the design goals of Adrien are\n",
    "* Use [DiffSharp](http://diffsharp.github.io/DiffSharp/) for inspiration while improving on some of the limitations. DiffSharp is written by Atılım Güneş Baydin and Barak A. Pearlmutter, two computer scientists who have published a lot on implementing [automatic differentiation](http://www.bcl.hamilton.ie/~barak/publications.html) using functional languages. However some design choices in DiffSharp should be improved, e.g DiffSharp uses different types to represent scalars, vectors, tensors and must implement a set of operations for each type, as well as operations thst involve combining two types different types:"
   ]
  },
  {
   "cell_type": "markdown",
   "metadata": {},
   "source": [
    "```F#\n",
    "static member (+) (a:DV, b:DM) =\n",
    "        let inline ff(a, b) = Backend.Add_V_MCols(a, b)\n",
    "        let inline fd(a, b) = a + b\n",
    "        let inline df_da(cp, ap, at) = DM.OfCols(b.Cols, at)\n",
    "        let inline df_db(cp, bp, bt) = bt\n",
    "        let inline df_dab(cp, ap, at, bp, bt) = at + bt\n",
    "        let inline r_d_d(a, b) = Add_DMCols_DV(b, a)\n",
    "        let inline r_d_c(a, b) = Add_DMColsCons_DV(a)\n",
    "        let inline r_c_d(a, b) = Add_DMCols_DVCons(b)\n",
    "        DM.Op_DV_DM_DM (a, b, ff, fd, df_da, df_db, df_dab, r_d_d, r_d_c, r_c_d)\n",
    "\n",
    "    static member (+) (a:DM, b:DV) =\n",
    "        let inline ff(a, b) = Backend.Add_V_MCols(b, a)\n",
    "        let inline fd(a, b) = a + b\n",
    "        let inline df_da(cp, ap, at) = at\n",
    "        let inline df_db(cp, bp, bt) = DM.OfCols(a.Cols, bt)\n",
    "        let inline df_dab(cp, ap, at, bp, bt) = at + bt\n",
    "        let inline r_d_d(a, b) = Add_DMCols_DV(a, b)\n",
    "        let inline r_d_c(a, b) = Add_DMCols_DVCons(a)\n",
    "        let inline r_c_d(a, b) = Add_DMColsCons_DV(b)\n",
    "DM.Op_DM_DV_DM (a, b, ff, fd, df_da, df_db, df_dab, r_d_d, r_d_c, r_c_d)\n",
    "```"
   ]
  },
  {
   "cell_type": "markdown",
   "metadata": {},
   "source": [
    "This design choice has significantly increased the size of the DiffSharp code base and made the code harder to read."
   ]
  },
  {
   "cell_type": "markdown",
   "metadata": {},
   "source": [
    "Adrien uses a single [type](https://github.com/Lokad/Adrien/blob/master/src/spikes/1/Adrien.Core/Numeric.fs) called `Numeric` to represent numeric values and operations.  These operations are represented as computation trees and need not be actually computed until evaluation time when the configured Backend will interpret the tree and emit the correct IL code to handle the different `Numeric` shapes and formats."
   ]
  },
  {
   "cell_type": "code",
   "execution_count": 4,
   "metadata": {},
   "outputs": [
    {
     "data": {
      "text/plain": [
       "{Shape = Scalar;\n",
       " Format = Float32;\n",
       " Data = 4.4000001f;\n",
       " Op = None;\n",
       " Left = None;\n",
       " Right = None;}"
      ]
     },
     "execution_count": 4,
     "metadata": {},
     "output_type": "execute_result"
    }
   ],
   "source": [
    "open Adrien.Numeric\n",
    "let c1 = scalar 4.40f\n",
    "c1"
   ]
  },
  {
   "cell_type": "code",
   "execution_count": 5,
   "metadata": {},
   "outputs": [
    {
     "data": {
      "text/plain": [
       "{Shape = Scalar;\n",
       " Format = Float32;\n",
       " Data = null;\n",
       " Op = Some Sin;\n",
       " Left = Some {Shape = Scalar;\n",
       "              Format = Float32;\n",
       "              Data = 4.4000001f;\n",
       "              Op = None;\n",
       "              Left = None;\n",
       "              Right = None;};\n",
       " Right = None;}"
      ]
     },
     "execution_count": 5,
     "metadata": {},
     "output_type": "execute_result"
    }
   ],
   "source": [
    "let c2 = sin c1\n",
    "c2"
   ]
  },
  {
   "cell_type": "code",
   "execution_count": 6,
   "metadata": {},
   "outputs": [
    {
     "data": {
      "text/plain": [
       "{Shape = Vector;\n",
       " Format = Float32;\n",
       " Data = [|1.0f; 2.0f|];\n",
       " Op = None;\n",
       " Left = None;\n",
       " Right = None;}"
      ]
     },
     "execution_count": 6,
     "metadata": {},
     "output_type": "execute_result"
    }
   ],
   "source": [
    "let v1 = vector [|1.0f;2.0f|]\n",
    "v1"
   ]
  },
  {
   "cell_type": "code",
   "execution_count": 7,
   "metadata": {
    "scrolled": true
   },
   "outputs": [
    {
     "data": {
      "text/plain": [
       "{Shape = Vector;\n",
       " Format = Float32;\n",
       " Data = null;\n",
       " Op = Some Mul;\n",
       " Left = Some {Shape = Vector;\n",
       "              Format = Float32;\n",
       "              Data = [|1.0f; 2.0f|];\n",
       "              Op = None;\n",
       "              Left = None;\n",
       "              Right = None;};\n",
       " Right = Some {Shape = Scalar;\n",
       "               Format = Float32;\n",
       "               Data = 4.4000001f;\n",
       "               Op = None;\n",
       "               Left = None;\n",
       "               Right = None;};}"
      ]
     },
     "execution_count": 7,
     "metadata": {},
     "output_type": "execute_result"
    }
   ],
   "source": [
    "let r = v1 * c1\n",
    "r"
   ]
  },
  {
   "cell_type": "markdown",
   "metadata": {},
   "source": [
    "### Design Goal\n",
    "* Exploit the functional nature of F# as much as possible. So auto-differentiable mathematical functions should be defined using the same syntax as any other F# functions, e.g.:"
   ]
  },
  {
   "cell_type": "code",
   "execution_count": 8,
   "metadata": {},
   "outputs": [
    {
     "data": {
      "text/plain": [
       "<fun:it@5> : (Expression -> Expression)"
      ]
     },
     "execution_count": 8,
     "metadata": {},
     "output_type": "execute_result"
    }
   ],
   "source": [
    "open Adrien.Expression\n",
    "open Adrien.Tree\n",
    "\n",
    "let f x = sin x + constant 2.0f\n",
    "f"
   ]
  },
  {
   "cell_type": "markdown",
   "metadata": {},
   "source": [
    "The function f is a regular F# function. The special `Expression` type is inferred from the use of the `constant` function to declare a constant. This function can be automatically converted into a computation `Tree` consisting of primitive numeric operations."
   ]
  },
  {
   "cell_type": "code",
   "execution_count": 8,
   "metadata": {},
   "outputs": [
    {
     "data": {
      "text/plain": [
       "Tree {Parent = 0;\n",
       "      Id = 1;\n",
       "      Op = Add;\n",
       "      Left = OperatorNode {Parent = 1;\n",
       "                           Id = 2;\n",
       "                           Op = Sin;\n",
       "                           Left = ValueNode {Id = 3;\n",
       "                                             Shape = Symbol;\n",
       "                                             Format = Nan;\n",
       "                                             Parent = 2;\n",
       "                                             Data = \"x1\";};\n",
       "                           Right = None;};\n",
       "      Right = Some (ValueNode {Id = 4;\n",
       "                               Shape = Scalar;\n",
       "                               Format = Float32;\n",
       "                               Parent = 1;\n",
       "                               Data = 2.0f;});}"
      ]
     },
     "execution_count": 8,
     "metadata": {},
     "output_type": "execute_result"
    }
   ],
   "source": [
    "tree f"
   ]
  },
  {
   "cell_type": "markdown",
   "metadata": {},
   "source": [
    "The Numeric type provides for both numeric values and symbolic values like variables that are to be treated symbolically during computation."
   ]
  },
  {
   "cell_type": "code",
   "execution_count": 10,
   "metadata": {},
   "outputs": [
    {
     "data": {
      "text/plain": [
       "<fun:it@4-1> : (Expression -> (Expression -> Expression))"
      ]
     },
     "execution_count": 10,
     "metadata": {},
     "output_type": "execute_result"
    }
   ],
   "source": [
    "open Adrien.Expression\n",
    "open Adrien.Tree\n",
    "let g y (x:Expression) = sin x + cos y\n",
    "g"
   ]
  },
  {
   "cell_type": "markdown",
   "metadata": {},
   "source": [
    "Functions of more than one variable can be defined and are handled in the same manner. The different independent variables are labelled x1, x2..."
   ]
  },
  {
   "cell_type": "code",
   "execution_count": 5,
   "metadata": {},
   "outputs": [
    {
     "data": {
      "text/plain": [
       "Tree {Parent = 0;\n",
       "      Id = 1;\n",
       "      Op = Add;\n",
       "      Left = OperatorNode {Parent = 1;\n",
       "                           Id = 2;\n",
       "                           Op = Sin;\n",
       "                           Left = ValueNode {Id = 3;\n",
       "                                             Shape = Symbol;\n",
       "                                             Format = Nan;\n",
       "                                             Parent = 2;\n",
       "                                             Data = \"x1\";};\n",
       "                           Right = None;};\n",
       "      Right = Some (OperatorNode {Parent = 1;\n",
       "                                  Id = 4;\n",
       "                                  Op = Cos;\n",
       "                                  Left = ValueNode {Id = 3;\n",
       "                                                    Shape = Symbol;\n",
       "                                                    Format = Nan;\n",
       "                                                    Parent = 2;\n",
       "                                                    Data = \"x2\";};\n",
       "                                  Right = None;});}"
      ]
     },
     "execution_count": 5,
     "metadata": {},
     "output_type": "execute_result"
    }
   ],
   "source": [
    "tree g"
   ]
  },
  {
   "cell_type": "markdown",
   "metadata": {},
   "source": [
    " Function composition is also supported:"
   ]
  },
  {
   "cell_type": "code",
   "execution_count": 11,
   "metadata": {},
   "outputs": [
    {
     "data": {
      "text/plain": [
       "<fun:h@1> : (Expression -> (Expression -> Expression))"
      ]
     },
     "execution_count": 11,
     "metadata": {},
     "output_type": "execute_result"
    }
   ],
   "source": [
    "let h  = cos >> g\n",
    "h"
   ]
  },
  {
   "cell_type": "markdown",
   "metadata": {},
   "source": [
    "The independent variables are handled correctly when the tree is constructed."
   ]
  },
  {
   "cell_type": "code",
   "execution_count": 12,
   "metadata": {},
   "outputs": [
    {
     "data": {
      "text/plain": [
       "Tree\n",
       "  {Parent = 0;\n",
       "   Id = 1;\n",
       "   Op = Add;\n",
       "   Left = OperatorNode {Parent = 1;\n",
       "                        Id = 2;\n",
       "                        Op = Sin;\n",
       "                        Left = ValueNode {Id = 3;\n",
       "                                          Shape = Symbol;\n",
       "                                          Format = Nan;\n",
       "                                          Parent = 2;\n",
       "                                          Data = \"x1\";};\n",
       "                        Right = None;};\n",
       "   Right =\n",
       "    Some (OperatorNode {Parent = 1;\n",
       "                        Id = 4;\n",
       "                        Op = Cos;\n",
       "                        Left = OperatorNode {Parent = 2;\n",
       "                                             Id = 3;\n",
       "                                             Op = Cos;\n",
       "                                             Left = ValueNode {Id = 4;\n",
       "                                                               Shape = Symbol;\n",
       "                                                               Format = Nan;\n",
       "                                                               Parent = 3;\n",
       "                                                               Data = \"x2\";};\n",
       "                                             Right = None;};\n",
       "                        Right = None;});}"
      ]
     },
     "execution_count": 12,
     "metadata": {},
     "output_type": "execute_result"
    }
   ],
   "source": [
    "tree h"
   ]
  },
  {
   "cell_type": "code",
   "execution_count": null,
   "metadata": {},
   "outputs": [],
   "source": []
  }
 ],
 "metadata": {
  "kernelspec": {
   "display_name": "F#",
   "language": "fsharp",
   "name": "ifsharp"
  },
  "language": "fsharp",
  "language_info": {
   "codemirror_mode": "",
   "file_extension": ".fs",
   "mimetype": "text/x-fsharp",
   "name": "fsharp",
   "nbconvert_exporter": "",
   "pygments_lexer": "",
   "version": "4.3.1.0"
  }
 },
 "nbformat": 4,
 "nbformat_minor": 2
}
